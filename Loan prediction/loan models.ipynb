{
 "cells": [
  {
   "cell_type": "code",
   "execution_count": 1,
   "id": "6d6b1392",
   "metadata": {},
   "outputs": [],
   "source": [
    "# IMPORTING THE NECESSARY LIBRARIES\n",
    "\n",
    "import pandas as pd\n",
    "import numpy as np\n",
    "from sklearn.preprocessing import LabelEncoder         # USED FOR ENCODING THE STRING VALUS\n",
    "from sklearn.model_selection import train_test_split   # USED FOR SPLITING DATAS FOR TRAINING AND TESTING\n",
    "from sklearn.linear_model import LogisticRegression    # UESD FOR IMPORTING LODISTIC REGRESSION MODEL\n",
    "from sklearn.tree import DecisionTreeClassifier        # UESD FOR IMPORTING DECISION TREE MODEL\n",
    "from sklearn.ensemble import RandomForestClassifier    # UESD FOR IMPORTING RANDOM FOREST CLASSIFIER MODEL\n",
    "from sklearn.metrics import accuracy_score as ac       # USED FOR ACCURACY TEST\n",
    "from sklearn.metrics import confusion_matrix           # USED TO CREATE CONFUSION MATRIX"
   ]
  },
  {
   "cell_type": "code",
   "execution_count": 2,
   "id": "712d9a6a",
   "metadata": {},
   "outputs": [],
   "source": [
    "# LOADING THE DATASET AND DROPING COLUMN OF \"Loan_ID\" WHICH IS NOT NECESSARY.\n",
    "\n",
    "data = pd.read_excel(\"loan-predictionUC.csv.xlsx\")\n",
    "data = data.drop(columns=\"Loan_ID\")"
   ]
  },
  {
   "cell_type": "code",
   "execution_count": null,
   "id": "ce23b1f0",
   "metadata": {},
   "outputs": [],
   "source": [
    "# VIEWING THE COLUMN NAMES\n",
    "\n",
    "data.columns.values.tolist()"
   ]
  },
  {
   "cell_type": "code",
   "execution_count": 4,
   "id": "55293615",
   "metadata": {},
   "outputs": [],
   "source": [
    "# DROPING THE NaN VALUES FROM THE DATASET\n",
    "\n",
    "data = data.dropna()"
   ]
  },
  {
   "cell_type": "code",
   "execution_count": 5,
   "id": "c2f58026",
   "metadata": {},
   "outputs": [],
   "source": [
    "# MAKING DUMMIES FOR \"Dependents\" COLUMN.\n",
    "\n",
    "data = pd.get_dummies(data, columns=[\"Dependents\"])"
   ]
  },
  {
   "cell_type": "code",
   "execution_count": 6,
   "id": "eba073d3",
   "metadata": {},
   "outputs": [],
   "source": [
    "# CONVERTING STRING VALUES TO INTEGER\n",
    "\n",
    "le = LabelEncoder()\n",
    "data[\"Gender\"] = le.fit_transform(data[\"Gender\"])                # FEMALE=0 , MALE=1\n",
    "data[\"Married\"] = le.fit_transform(data[\"Married\"])              # NO =0 , YES =1 \n",
    "data[\"Education\"] = le.fit_transform(data[\"Education\"])          # Graduate=0 , NOT Graduate=1\n",
    "data[\"Self_Employed\"] = le.fit_transform(data[\"Self_Employed\"])  # NO =0 , YES = 1 \n",
    "data[\"Property_Area\"] = le.fit_transform(data[\"Property_Area\"])  # Rural=0 ,Semi-urban =1 ,Semiurban =2 , Urban=3 "
   ]
  },
  {
   "cell_type": "code",
   "execution_count": null,
   "id": "a51df514",
   "metadata": {},
   "outputs": [],
   "source": [
    "# DEFINING THE FEATURE AND LABEL DATASETS AND SPLITING THE DATASET TO TRAIN AND TEST DATAS\n",
    "\n",
    "feature = data.drop(columns='Loan_Status')\n",
    "label = data['Loan_Status']\n",
    "feature_train,feature_test,label_train,label_test = train_test_split(feature,label,test_size=0.25)"
   ]
  },
  {
   "cell_type": "code",
   "execution_count": null,
   "id": "78f42bc2",
   "metadata": {},
   "outputs": [],
   "source": [
    "print(feature_train.shape)\n",
    "print(feature_test.shape)\n",
    "print(label_train.shape)\n",
    "print(label_test.shape)"
   ]
  },
  {
   "cell_type": "code",
   "execution_count": null,
   "id": "912606ee",
   "metadata": {},
   "outputs": [],
   "source": [
    "# DEFINING THE ML MODELS \n",
    "LR = LogisticRegression()\n",
    "DT = DecisionTreeClassifier()\n",
    "RF = RandomForestClassifier()\n",
    "\n",
    "# TRAINING THE MODELS\n",
    "\n",
    "LR.fit(feature_train,label_train)\n",
    "DT.fit(feature_train,label_train)\n",
    "RF.fit(feature_train,label_train)\n"
   ]
  },
  {
   "cell_type": "code",
   "execution_count": null,
   "id": "df9cd1a1",
   "metadata": {},
   "outputs": [],
   "source": [
    "# CHECKING THE TRAINING DATA ACCURACY\n",
    "print(\"TRAIN DATA ACCURACY\")\n",
    "print(\"Logistic Regression:\",ac(label_train,LR.predict(feature_train)))\n",
    "print(\"Decision Tree:\",ac(label_train,DT.predict(feature_train)))\n",
    "print(\"Random Forest:\",ac(label_train,RF.predict(feature_train)))"
   ]
  },
  {
   "cell_type": "code",
   "execution_count": null,
   "id": "12390d0e",
   "metadata": {},
   "outputs": [],
   "source": [
    "# CHECKING THE TESTING DATA ACCURACY\n",
    "\n",
    "print(\"TEST DATA ACCURACY\")\n",
    "print(\"Logistic Regression:\",ac(label_test,LR.predict(feature_test)))\n",
    "print(\"Decision Tree:\",ac(label_test,DT.predict(feature_test))) \n",
    "print(\"Random Forest:\",ac(label_test,RF.predict(feature_test)))"
   ]
  },
  {
   "cell_type": "code",
   "execution_count": null,
   "id": "f9a95ea5",
   "metadata": {},
   "outputs": [],
   "source": [
    "# MAKING THE PREDICTION DATASET\n",
    "\n",
    "new_data = np.array([1, 1, 0, 1, 3000, 0, 120.0, 360.0, 1.0, 3,1,0,0,0])\n",
    "\n",
    "new_data = new_data.reshape(1, -1)\n",
    "new_data = np.repeat(new_data, 120, axis=0)\n",
    "\n",
    "# MAKING PREDICTIONS USING THE MODELS\n",
    "lr_prediction = LR.predict(new_data)\n",
    "dt_prediction = DT.predict(new_data)\n",
    "rf_prediction = RF.predict(new_data)\n",
    "\n",
    "# PRINTING THE PREDICTIONS\n",
    "\n",
    "print(\"Logistic Regression:\", lr_prediction)\n",
    "print(\"Decision Tree:\", dt_prediction)\n",
    "print(\"Random Forest:\", rf_prediction)\n",
    "\n"
   ]
  },
  {
   "cell_type": "code",
   "execution_count": null,
   "id": "e145ff45",
   "metadata": {},
   "outputs": [],
   "source": [
    "# CREATING THE CONFUSION MATRICS FOR THE MODELS\n",
    "\n",
    "lr_cm = confusion_matrix(label_test, lr_prediction)\n",
    "dt_cm = confusion_matrix(label_test, dt_prediction)\n",
    "rf_cm = confusion_matrix(label_test, rf_prediction)\n",
    "\n",
    "lr_table = pd.DataFrame(lr_cm, columns=['True Positive', 'False Positive'], index=['Loan Approved', 'Loan Denied'])\n",
    "dt_table = pd.DataFrame(dt_cm, columns=['True Positive', 'False Positive'], index=['Loan Approved', 'Loan Denied'])\n",
    "rf_table = pd.DataFrame(rf_cm, columns=['True Positive', 'False Positive'], index=['Loan Approved', 'Loan Denied'])\n",
    "\n",
    "print(\"Logistic Regression:\")\n",
    "print(lr_table.to_string())\n",
    "print(\"----------------------------------------------\")\n",
    "print(\"Decision Tree:\")\n",
    "print(dt_table.to_string())\n",
    "print(\"----------------------------------------------\")\n",
    "print(\"Random Forest:\")\n",
    "print(rf_table.to_string())\n",
    "print(\"----------------------------------------------\")"
   ]
  }
 ],
 "metadata": {
  "kernelspec": {
   "display_name": "Python 3 (ipykernel)",
   "language": "python",
   "name": "python3"
  },
  "language_info": {
   "codemirror_mode": {
    "name": "ipython",
    "version": 3
   },
   "file_extension": ".py",
   "mimetype": "text/x-python",
   "name": "python",
   "nbconvert_exporter": "python",
   "pygments_lexer": "ipython3",
   "version": "3.11.5"
  }
 },
 "nbformat": 4,
 "nbformat_minor": 5
}
