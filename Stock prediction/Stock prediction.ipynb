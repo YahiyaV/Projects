{
 "cells": [
  {
   "cell_type": "markdown",
   "id": "faea8724",
   "metadata": {},
   "source": [
    "# Stock-Prediction-of-Amazon-using-LSTM"
   ]
  },
  {
   "cell_type": "code",
   "execution_count": 6,
   "id": "dffeb54e",
   "metadata": {},
   "outputs": [],
   "source": [
    "import numpy as np \n",
    "import pandas as pd \n",
    "import matplotlib.pyplot as plt \n",
    "from sklearn.preprocessing import MinMaxScaler \n",
    "from sklearn.metrics import mean_squared_error \n",
    "from keras.models import Sequential \n",
    "from keras.layers import LSTM, Dense"
   ]
  },
  {
   "cell_type": "markdown",
   "id": "9db14b86",
   "metadata": {},
   "source": [
    "# Load the historical stock price data"
   ]
  },
  {
   "cell_type": "code",
   "execution_count": 34,
   "id": "a3a7dbbf",
   "metadata": {},
   "outputs": [],
   "source": [
    "data = pd.read_csv(\"D:/yahiya/bharat inter/priyanka/AMZN.csv\") \n",
    "prices = data['Close'].values.reshape(-1, 1)"
   ]
  },
  {
   "cell_type": "markdown",
   "id": "69508e7a",
   "metadata": {},
   "source": [
    "# Normalize the data"
   ]
  },
  {
   "cell_type": "code",
   "execution_count": 14,
   "id": "0f7252c8",
   "metadata": {},
   "outputs": [],
   "source": [
    "scaler = MinMaxScaler() \n",
    "prices_scaled = scaler.fit_transform(prices)"
   ]
  },
  {
   "cell_type": "markdown",
   "id": "ffcbc4d2",
   "metadata": {},
   "source": [
    "# Create a time series dataset"
   ]
  },
  {
   "cell_type": "code",
   "execution_count": 21,
   "id": "09fe85cf",
   "metadata": {},
   "outputs": [],
   "source": [
    "look_back = 30  # Number of previous days' prices to consider\n",
    "X, y = [], []\n",
    "for i in range(len(prices_scaled) - look_back):\n",
    "    X.append(prices_scaled[i:i+look_back, 0])\n",
    "    y.append(prices_scaled[i+look_back, 0])\n",
    "X, y = np.array(X), np.array(y)"
   ]
  },
  {
   "cell_type": "markdown",
   "id": "0271251a",
   "metadata": {},
   "source": [
    "# Split the data into training and testing sets"
   ]
  },
  {
   "cell_type": "code",
   "execution_count": 22,
   "id": "fda49206",
   "metadata": {},
   "outputs": [],
   "source": [
    "train_size = int(0.8 * len(X)) \n",
    "X_train, X_test = X[:train_size], X[train_size:] \n",
    "y_train, y_test = y[:train_size], y[train_size:]"
   ]
  },
  {
   "cell_type": "markdown",
   "id": "c5648d31",
   "metadata": {},
   "source": [
    "# Reshape input data for LSTM (samples, time steps, features)"
   ]
  },
  {
   "cell_type": "code",
   "execution_count": 23,
   "id": "641cfc4c",
   "metadata": {},
   "outputs": [],
   "source": [
    "X_train = np.reshape(X_train, (X_train.shape[0], X_train.shape[1], 1)) \n",
    "X_test = np.reshape(X_test, (X_test.shape[0], X_test.shape[1], 1))"
   ]
  },
  {
   "cell_type": "markdown",
   "id": "35b79563",
   "metadata": {},
   "source": [
    "# Build the LSTM model"
   ]
  },
  {
   "cell_type": "code",
   "execution_count": 24,
   "id": "d0457e29",
   "metadata": {},
   "outputs": [],
   "source": [
    "model = Sequential()\n",
    "model.add(LSTM(units=50, input_shape=(X_train.shape[1], 1)))\n",
    "model.add(Dense(1))\n",
    "model.compile(loss='mean_squared_error', optimizer='adam')\n"
   ]
  },
  {
   "cell_type": "markdown",
   "id": "6f001bf7",
   "metadata": {},
   "source": [
    "# Train the model"
   ]
  },
  {
   "cell_type": "code",
   "execution_count": 25,
   "id": "14c0d9b0",
   "metadata": {
    "scrolled": true
   },
   "outputs": [
    {
     "name": "stdout",
     "output_type": "stream",
     "text": [
      "Epoch 1/50\n",
      "156/156 [==============================] - 6s 15ms/step - loss: 2.6187e-04\n",
      "Epoch 2/50\n",
      "156/156 [==============================] - 2s 14ms/step - loss: 8.7723e-06\n",
      "Epoch 3/50\n",
      "156/156 [==============================] - 2s 14ms/step - loss: 8.4225e-06\n",
      "Epoch 4/50\n",
      "156/156 [==============================] - 2s 14ms/step - loss: 8.2334e-06\n",
      "Epoch 5/50\n",
      "156/156 [==============================] - 2s 15ms/step - loss: 8.4392e-06\n",
      "Epoch 6/50\n",
      "156/156 [==============================] - 2s 15ms/step - loss: 7.1809e-06\n",
      "Epoch 7/50\n",
      "156/156 [==============================] - 2s 14ms/step - loss: 7.0284e-06\n",
      "Epoch 8/50\n",
      "156/156 [==============================] - 2s 14ms/step - loss: 7.1953e-06\n",
      "Epoch 9/50\n",
      "156/156 [==============================] - 2s 15ms/step - loss: 6.9103e-06\n",
      "Epoch 10/50\n",
      "156/156 [==============================] - 2s 15ms/step - loss: 6.1403e-06\n",
      "Epoch 11/50\n",
      "156/156 [==============================] - 3s 16ms/step - loss: 6.0938e-06\n",
      "Epoch 12/50\n",
      "156/156 [==============================] - 2s 15ms/step - loss: 5.3782e-06\n",
      "Epoch 13/50\n",
      "156/156 [==============================] - 2s 16ms/step - loss: 5.9608e-06\n",
      "Epoch 14/50\n",
      "156/156 [==============================] - 2s 15ms/step - loss: 5.0127e-06\n",
      "Epoch 15/50\n",
      "156/156 [==============================] - 2s 15ms/step - loss: 5.2096e-06\n",
      "Epoch 16/50\n",
      "156/156 [==============================] - 2s 15ms/step - loss: 5.5524e-06\n",
      "Epoch 17/50\n",
      "156/156 [==============================] - 2s 15ms/step - loss: 5.3818e-06\n",
      "Epoch 18/50\n",
      "156/156 [==============================] - 2s 16ms/step - loss: 4.7310e-06\n",
      "Epoch 19/50\n",
      "156/156 [==============================] - 2s 16ms/step - loss: 4.6467e-06\n",
      "Epoch 20/50\n",
      "156/156 [==============================] - 2s 15ms/step - loss: 4.0087e-06\n",
      "Epoch 21/50\n",
      "156/156 [==============================] - 3s 16ms/step - loss: 4.3556e-06\n",
      "Epoch 22/50\n",
      "156/156 [==============================] - 2s 16ms/step - loss: 4.1266e-06\n",
      "Epoch 23/50\n",
      "156/156 [==============================] - 2s 14ms/step - loss: 4.7453e-06\n",
      "Epoch 24/50\n",
      "156/156 [==============================] - 2s 16ms/step - loss: 3.8900e-06\n",
      "Epoch 25/50\n",
      "156/156 [==============================] - 3s 16ms/step - loss: 3.8116e-06\n",
      "Epoch 26/50\n",
      "156/156 [==============================] - 2s 15ms/step - loss: 3.8579e-06\n",
      "Epoch 27/50\n",
      "156/156 [==============================] - 2s 15ms/step - loss: 4.1248e-06\n",
      "Epoch 28/50\n",
      "156/156 [==============================] - 2s 15ms/step - loss: 3.7732e-06\n",
      "Epoch 29/50\n",
      "156/156 [==============================] - 2s 15ms/step - loss: 3.8049e-06\n",
      "Epoch 30/50\n",
      "156/156 [==============================] - 2s 14ms/step - loss: 3.5654e-06\n",
      "Epoch 31/50\n",
      "156/156 [==============================] - 2s 15ms/step - loss: 3.2937e-06\n",
      "Epoch 32/50\n",
      "156/156 [==============================] - 2s 15ms/step - loss: 3.2762e-06\n",
      "Epoch 33/50\n",
      "156/156 [==============================] - 2s 15ms/step - loss: 3.2702e-06\n",
      "Epoch 34/50\n",
      "156/156 [==============================] - 2s 15ms/step - loss: 3.4186e-06\n",
      "Epoch 35/50\n",
      "156/156 [==============================] - 2s 15ms/step - loss: 3.9039e-06\n",
      "Epoch 36/50\n",
      "156/156 [==============================] - 2s 15ms/step - loss: 3.3738e-06\n",
      "Epoch 37/50\n",
      "156/156 [==============================] - 2s 15ms/step - loss: 3.1631e-06\n",
      "Epoch 38/50\n",
      "156/156 [==============================] - 2s 15ms/step - loss: 3.5678e-06\n",
      "Epoch 39/50\n",
      "156/156 [==============================] - 2s 16ms/step - loss: 2.7260e-06\n",
      "Epoch 40/50\n",
      "156/156 [==============================] - 2s 15ms/step - loss: 2.9295e-06\n",
      "Epoch 41/50\n",
      "156/156 [==============================] - 2s 15ms/step - loss: 3.3163e-06\n",
      "Epoch 42/50\n",
      "156/156 [==============================] - 2s 15ms/step - loss: 2.9992e-06\n",
      "Epoch 43/50\n",
      "156/156 [==============================] - 2s 15ms/step - loss: 2.6125e-06\n",
      "Epoch 44/50\n",
      "156/156 [==============================] - 3s 17ms/step - loss: 2.9783e-06\n",
      "Epoch 45/50\n",
      "156/156 [==============================] - 2s 15ms/step - loss: 2.6482e-06\n",
      "Epoch 46/50\n",
      "156/156 [==============================] - 2s 15ms/step - loss: 2.6041e-06\n",
      "Epoch 47/50\n",
      "156/156 [==============================] - 2s 15ms/step - loss: 2.8156e-06\n",
      "Epoch 48/50\n",
      "156/156 [==============================] - 2s 15ms/step - loss: 2.2918e-06\n",
      "Epoch 49/50\n",
      "156/156 [==============================] - 2s 15ms/step - loss: 2.6022e-06\n",
      "Epoch 50/50\n",
      "156/156 [==============================] - 2s 15ms/step - loss: 2.3078e-06\n"
     ]
    },
    {
     "data": {
      "text/plain": [
       "<keras.src.callbacks.History at 0x266c0156d90>"
      ]
     },
     "execution_count": 25,
     "metadata": {},
     "output_type": "execute_result"
    }
   ],
   "source": [
    "model.fit(X_train, y_train, epochs=50, batch_size=32)"
   ]
  },
  {
   "cell_type": "markdown",
   "id": "f798c093",
   "metadata": {},
   "source": [
    "# Make predictions"
   ]
  },
  {
   "cell_type": "code",
   "execution_count": 26,
   "id": "d1df923a",
   "metadata": {},
   "outputs": [
    {
     "name": "stdout",
     "output_type": "stream",
     "text": [
      "156/156 [==============================] - 2s 6ms/step\n",
      "39/39 [==============================] - 0s 7ms/step\n"
     ]
    }
   ],
   "source": [
    "train_predict = model.predict(X_train) \n",
    "test_predict = model.predict(X_test)"
   ]
  },
  {
   "cell_type": "markdown",
   "id": "8ac9ac50",
   "metadata": {},
   "source": [
    "# Inverse transform the predictions to get actual stock prices"
   ]
  },
  {
   "cell_type": "code",
   "execution_count": 27,
   "id": "f16d454c",
   "metadata": {},
   "outputs": [],
   "source": [
    "train_predict = scaler.inverse_transform(train_predict)\n",
    "y_train = scaler.inverse_transform([y_train])\n",
    "test_predict = scaler.inverse_transform(test_predict)\n",
    "y_test = scaler.inverse_transform([y_test])"
   ]
  },
  {
   "cell_type": "markdown",
   "id": "c592e7f1",
   "metadata": {},
   "source": [
    "# Calculate RMSE"
   ]
  },
  {
   "cell_type": "code",
   "execution_count": 28,
   "id": "9c36ca33",
   "metadata": {},
   "outputs": [
    {
     "name": "stdout",
     "output_type": "stream",
     "text": [
      "Train RMSE: 5.395771653961929\n",
      "Test RMSE: 53.835572649989885\n"
     ]
    }
   ],
   "source": [
    "train_rmse = np.sqrt(mean_squared_error(y_train[0], train_predict[:, 0]))\n",
    "test_rmse = np.sqrt(mean_squared_error(y_test[0], test_predict[:, 0]))\n",
    "\n",
    "print(\"Train RMSE:\", train_rmse)\n",
    "print(\"Test RMSE:\", test_rmse)"
   ]
  },
  {
   "cell_type": "markdown",
   "id": "9bcd1f9e",
   "metadata": {},
   "source": [
    "# Plot the results"
   ]
  },
  {
   "cell_type": "code",
   "execution_count": 29,
   "id": "bb5a7d67",
   "metadata": {},
   "outputs": [
    {
     "data": {
      "image/png": "[encoded data removed]",
      "text/plain": [
       "<Figure size 640x480 with 1 Axes>"
      ]
     },
     "metadata": {},
     "output_type": "display_data"
    }
   ],
   "source": [
    "plt.plot(scaler.inverse_transform(prices_scaled), label='True')\n",
    "plt.plot(np.arange(look_back, look_back + len(train_predict)), train_predict, label='Train Predict')\n",
    "plt.plot(np.arange(look_back + len(train_predict), len(prices_scaled)), test_predict, label='Test Predict')\n",
    "plt.legend()\n",
    "plt.show()"
   ]
  }
 ],
 "metadata": {
  "kernelspec": {
   "display_name": "Python 3 (ipykernel)",
   "language": "python",
   "name": "python3"
  },
  "language_info": {
   "codemirror_mode": {
    "name": "ipython",
    "version": 3
   },
   "file_extension": ".py",
   "mimetype": "text/x-python",
   "name": "python",
   "nbconvert_exporter": "python",
   "pygments_lexer": "ipython3",
   "version": "3.11.5"
  }
 },
 "nbformat": 4,
 "nbformat_minor": 5
}
